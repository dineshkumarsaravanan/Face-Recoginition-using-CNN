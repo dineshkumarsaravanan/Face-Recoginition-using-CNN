{
 "cells": [
  {
   "cell_type": "code",
   "execution_count": 5,
   "metadata": {},
   "outputs": [],
   "source": [
    "import cv2\n",
    "from keras.models import load_model\n",
    "import tensorflow as tf\n",
    "import numpy as np"
   ]
  },
  {
   "cell_type": "code",
   "execution_count": null,
   "metadata": {},
   "outputs": [],
   "source": [
    "cascPath = \"haarcascade_frontalface_default.xml\"\n",
    "faceCascade = cv2.CascadeClassifier(cascPath)\n",
    "font = cv2.FONT_HERSHEY_SIMPLEX\n",
    "cap = cv2.VideoCapture(0)\n",
    "print('Scanning.......=>')\n",
    "ret = True\n",
    "label = ['Dinesh', 'GokulS', 'Uma', 'Vasanth']\n",
    "model = tf.keras.models.load_model(\"Final_Classifier1.h5\")\n",
    "clip = []\n",
    "score = [0,0,0,0]\n",
    "while ret:\n",
    "    ret, frame = cap.read()\n",
    "    nframe = frame\n",
    "    faces = faceCascade.detectMultiScale(frame, 1.3, 5)\n",
    "    try:\n",
    "        (x,y,w,h) = faces[0]\n",
    "    except:\n",
    "        continue\n",
    "    frame = frame[y:y+h,x:x+w]\n",
    "    frame = cv2.resize(frame, (64,64))\n",
    "    frame2 = cv2.resize(frame,(256,256))\n",
    "    frame1 = np.expand_dims(frame,axis=0)\n",
    "    classes = model.predict(frame1)\n",
    "    #print(label[np.argmax(classes)])\n",
    "    cv2.imshow('Looking for Driver' , frame2)\n",
    "    if (label[np.argmax(classes)] == 'Vasanth'):\n",
    "        score[3] += 1\n",
    "    if (label[np.argmax(classes)] == 'Dinesh'):\n",
    "        score[0] += 1\n",
    "    if (label[np.argmax(classes)] == 'GokulS'):\n",
    "        score[1] += 1\n",
    "    if (label[np.argmax(classes)] == 'Uma'):\n",
    "        score[2] += 1\n",
    "    if (score[3]==50)or(score[0]==50)or(score[2]==50)or(score[1]==50):\n",
    "        text = label[np.argmax(score)]\n",
    "        print('Car is started By: ' + text )\n",
    "        cap.release()\n",
    "        cv2.destroyAllWindows()\n",
    "    #print(score)\n",
    "    c= cv2.waitKey(1)\n",
    "    if c & 0xFF == ord('q'):\n",
    "         break\n",
    "cap.release()\n",
    "cv2.destroyAllWindows()"
   ]
  },
  {
   "cell_type": "code",
   "execution_count": 4,
   "metadata": {},
   "outputs": [
    {
     "name": "stdout",
     "output_type": "stream",
     "text": [
      "Message sent to owner\n"
     ]
    }
   ],
   "source": [
    "from twilio.rest import Client\n",
    "\n",
    "account_sid = \"ACfea19a7f7d32cf4a5085eda078758f73\"\n",
    "auth_token =\"b05aa3cbf5ffc60bad8208444d716352\"\n",
    "client = Client(account_sid, auth_token)\n",
    "\n",
    "message = client.messages \\\n",
    "    .create(\n",
    "         body=text+' has taken the car',\n",
    "         from_='+18059730832',\n",
    "         to='+917868966496'\n",
    "\n",
    "     )\n",
    "\n",
    "try:\n",
    "    print(\"Message sent to owner\")\n",
    "except:\n",
    "    print(\"Unable to send the message to owner\")"
   ]
  },
  {
   "cell_type": "code",
   "execution_count": null,
   "metadata": {},
   "outputs": [],
   "source": []
  }
 ],
 "metadata": {
  "kernelspec": {
   "display_name": "Python 3",
   "language": "python",
   "name": "python3"
  },
  "language_info": {
   "codemirror_mode": {
    "name": "ipython",
    "version": 3
   },
   "file_extension": ".py",
   "mimetype": "text/x-python",
   "name": "python",
   "nbconvert_exporter": "python",
   "pygments_lexer": "ipython3",
   "version": "3.8.8"
  }
 },
 "nbformat": 4,
 "nbformat_minor": 4
}
